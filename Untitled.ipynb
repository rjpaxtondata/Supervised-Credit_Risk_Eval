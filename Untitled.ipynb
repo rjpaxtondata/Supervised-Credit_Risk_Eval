{
 "cells": [
  {
   "cell_type": "code",
   "execution_count": 1,
   "metadata": {},
   "outputs": [],
   "source": [
    "#import dependencies\n",
    "import numpy as np\n",
    "import pandas as pd\n",
    "from pathlib import Path\n",
    "import warnings\n",
    "warnings.filterwarnings('ignore')"
   ]
  },
  {
   "cell_type": "code",
   "execution_count": 2,
   "metadata": {},
   "outputs": [],
   "source": [
    "# load data from CSV files\n",
    "train_df = pd.read_csv(Path('Resources/2019loans.csv'))\n",
    "test_df = pd.read_csv(Path('Resources/2020Q1loans.csv'))"
   ]
  },
  {
   "cell_type": "code",
   "execution_count": 3,
   "metadata": {},
   "outputs": [
    {
     "name": "stdout",
     "output_type": "stream",
     "text": [
      "Index(['Unnamed: 0', 'index', 'loan_amnt', 'int_rate', 'installment',\n",
      "       'annual_inc', 'dti', 'delinq_2yrs', 'inq_last_6mths', 'open_acc',\n",
      "       'pub_rec', 'revol_bal', 'total_acc', 'out_prncp', 'out_prncp_inv',\n",
      "       'total_pymnt', 'total_pymnt_inv', 'total_rec_prncp', 'total_rec_int',\n",
      "       'total_rec_late_fee', 'recoveries', 'collection_recovery_fee',\n",
      "       'last_pymnt_amnt', 'collections_12_mths_ex_med', 'policy_code',\n",
      "       'acc_now_delinq', 'tot_coll_amt', 'tot_cur_bal', 'open_acc_6m',\n",
      "       'open_act_il', 'open_il_12m', 'open_il_24m', 'mths_since_rcnt_il',\n",
      "       'total_bal_il', 'il_util', 'open_rv_12m', 'open_rv_24m', 'max_bal_bc',\n",
      "       'all_util', 'total_rev_hi_lim', 'inq_fi', 'total_cu_tl', 'inq_last_12m',\n",
      "       'acc_open_past_24mths', 'avg_cur_bal', 'bc_open_to_buy', 'bc_util',\n",
      "       'chargeoff_within_12_mths', 'delinq_amnt', 'mo_sin_old_il_acct',\n",
      "       'mo_sin_old_rev_tl_op', 'mo_sin_rcnt_rev_tl_op', 'mo_sin_rcnt_tl',\n",
      "       'mort_acc', 'mths_since_recent_bc', 'mths_since_recent_inq',\n",
      "       'num_accts_ever_120_pd', 'num_actv_bc_tl', 'num_actv_rev_tl',\n",
      "       'num_bc_sats', 'num_bc_tl', 'num_il_tl', 'num_op_rev_tl',\n",
      "       'num_rev_accts', 'num_rev_tl_bal_gt_0', 'num_sats', 'num_tl_120dpd_2m',\n",
      "       'num_tl_30dpd', 'num_tl_90g_dpd_24m', 'num_tl_op_past_12m',\n",
      "       'pct_tl_nvr_dlq', 'percent_bc_gt_75', 'pub_rec_bankruptcies',\n",
      "       'tax_liens', 'tot_hi_cred_lim', 'total_bal_ex_mort', 'total_bc_limit',\n",
      "       'total_il_high_credit_limit', 'home_ownership_ANY',\n",
      "       'home_ownership_MORTGAGE', 'home_ownership_OWN', 'home_ownership_RENT',\n",
      "       'verification_status_Not Verified',\n",
      "       'verification_status_Source Verified', 'verification_status_Verified',\n",
      "       'loan_status_high_risk', 'loan_status_low_risk', 'pymnt_plan_n',\n",
      "       'initial_list_status_f', 'initial_list_status_w',\n",
      "       'application_type_Individual', 'application_type_Joint App',\n",
      "       'hardship_flag_N', 'hardship_flag_Y', 'debt_settlement_flag_N',\n",
      "       'debt_settlement_flag_Y'],\n",
      "      dtype='object')\n"
     ]
    },
    {
     "data": {
      "text/html": [
       "<div>\n",
       "<style scoped>\n",
       "    .dataframe tbody tr th:only-of-type {\n",
       "        vertical-align: middle;\n",
       "    }\n",
       "\n",
       "    .dataframe tbody tr th {\n",
       "        vertical-align: top;\n",
       "    }\n",
       "\n",
       "    .dataframe thead th {\n",
       "        text-align: right;\n",
       "    }\n",
       "</style>\n",
       "<table border=\"1\" class=\"dataframe\">\n",
       "  <thead>\n",
       "    <tr style=\"text-align: right;\">\n",
       "      <th></th>\n",
       "      <th>Unnamed: 0</th>\n",
       "      <th>index</th>\n",
       "      <th>loan_amnt</th>\n",
       "      <th>int_rate</th>\n",
       "      <th>installment</th>\n",
       "      <th>annual_inc</th>\n",
       "      <th>dti</th>\n",
       "      <th>delinq_2yrs</th>\n",
       "      <th>inq_last_6mths</th>\n",
       "      <th>open_acc</th>\n",
       "      <th>...</th>\n",
       "      <th>loan_status_low_risk</th>\n",
       "      <th>pymnt_plan_n</th>\n",
       "      <th>initial_list_status_f</th>\n",
       "      <th>initial_list_status_w</th>\n",
       "      <th>application_type_Individual</th>\n",
       "      <th>application_type_Joint App</th>\n",
       "      <th>hardship_flag_N</th>\n",
       "      <th>hardship_flag_Y</th>\n",
       "      <th>debt_settlement_flag_N</th>\n",
       "      <th>debt_settlement_flag_Y</th>\n",
       "    </tr>\n",
       "  </thead>\n",
       "  <tbody>\n",
       "    <tr>\n",
       "      <th>0</th>\n",
       "      <td>57107</td>\n",
       "      <td>57107</td>\n",
       "      <td>13375.0</td>\n",
       "      <td>0.1797</td>\n",
       "      <td>483.34</td>\n",
       "      <td>223000.0</td>\n",
       "      <td>29.99</td>\n",
       "      <td>0.0</td>\n",
       "      <td>0.0</td>\n",
       "      <td>15.0</td>\n",
       "      <td>...</td>\n",
       "      <td>1</td>\n",
       "      <td>1</td>\n",
       "      <td>0</td>\n",
       "      <td>1</td>\n",
       "      <td>1</td>\n",
       "      <td>0</td>\n",
       "      <td>1</td>\n",
       "      <td>0</td>\n",
       "      <td>1</td>\n",
       "      <td>0</td>\n",
       "    </tr>\n",
       "    <tr>\n",
       "      <th>1</th>\n",
       "      <td>141451</td>\n",
       "      <td>141451</td>\n",
       "      <td>21000.0</td>\n",
       "      <td>0.1308</td>\n",
       "      <td>478.68</td>\n",
       "      <td>123000.0</td>\n",
       "      <td>11.26</td>\n",
       "      <td>2.0</td>\n",
       "      <td>0.0</td>\n",
       "      <td>16.0</td>\n",
       "      <td>...</td>\n",
       "      <td>1</td>\n",
       "      <td>1</td>\n",
       "      <td>0</td>\n",
       "      <td>1</td>\n",
       "      <td>1</td>\n",
       "      <td>0</td>\n",
       "      <td>1</td>\n",
       "      <td>0</td>\n",
       "      <td>1</td>\n",
       "      <td>0</td>\n",
       "    </tr>\n",
       "    <tr>\n",
       "      <th>2</th>\n",
       "      <td>321143</td>\n",
       "      <td>321143</td>\n",
       "      <td>20000.0</td>\n",
       "      <td>0.1240</td>\n",
       "      <td>448.95</td>\n",
       "      <td>197000.0</td>\n",
       "      <td>11.28</td>\n",
       "      <td>0.0</td>\n",
       "      <td>0.0</td>\n",
       "      <td>12.0</td>\n",
       "      <td>...</td>\n",
       "      <td>1</td>\n",
       "      <td>1</td>\n",
       "      <td>0</td>\n",
       "      <td>1</td>\n",
       "      <td>1</td>\n",
       "      <td>0</td>\n",
       "      <td>1</td>\n",
       "      <td>0</td>\n",
       "      <td>1</td>\n",
       "      <td>0</td>\n",
       "    </tr>\n",
       "    <tr>\n",
       "      <th>3</th>\n",
       "      <td>11778</td>\n",
       "      <td>11778</td>\n",
       "      <td>3000.0</td>\n",
       "      <td>0.1240</td>\n",
       "      <td>100.22</td>\n",
       "      <td>45000.0</td>\n",
       "      <td>18.08</td>\n",
       "      <td>0.0</td>\n",
       "      <td>0.0</td>\n",
       "      <td>12.0</td>\n",
       "      <td>...</td>\n",
       "      <td>1</td>\n",
       "      <td>1</td>\n",
       "      <td>0</td>\n",
       "      <td>1</td>\n",
       "      <td>1</td>\n",
       "      <td>0</td>\n",
       "      <td>1</td>\n",
       "      <td>0</td>\n",
       "      <td>1</td>\n",
       "      <td>0</td>\n",
       "    </tr>\n",
       "    <tr>\n",
       "      <th>4</th>\n",
       "      <td>169382</td>\n",
       "      <td>169382</td>\n",
       "      <td>30000.0</td>\n",
       "      <td>0.1612</td>\n",
       "      <td>1056.49</td>\n",
       "      <td>133000.0</td>\n",
       "      <td>27.77</td>\n",
       "      <td>0.0</td>\n",
       "      <td>2.0</td>\n",
       "      <td>13.0</td>\n",
       "      <td>...</td>\n",
       "      <td>1</td>\n",
       "      <td>1</td>\n",
       "      <td>0</td>\n",
       "      <td>1</td>\n",
       "      <td>1</td>\n",
       "      <td>0</td>\n",
       "      <td>1</td>\n",
       "      <td>0</td>\n",
       "      <td>1</td>\n",
       "      <td>0</td>\n",
       "    </tr>\n",
       "    <tr>\n",
       "      <th>...</th>\n",
       "      <td>...</td>\n",
       "      <td>...</td>\n",
       "      <td>...</td>\n",
       "      <td>...</td>\n",
       "      <td>...</td>\n",
       "      <td>...</td>\n",
       "      <td>...</td>\n",
       "      <td>...</td>\n",
       "      <td>...</td>\n",
       "      <td>...</td>\n",
       "      <td>...</td>\n",
       "      <td>...</td>\n",
       "      <td>...</td>\n",
       "      <td>...</td>\n",
       "      <td>...</td>\n",
       "      <td>...</td>\n",
       "      <td>...</td>\n",
       "      <td>...</td>\n",
       "      <td>...</td>\n",
       "      <td>...</td>\n",
       "      <td>...</td>\n",
       "    </tr>\n",
       "    <tr>\n",
       "      <th>12175</th>\n",
       "      <td>354912</td>\n",
       "      <td>354912</td>\n",
       "      <td>19975.0</td>\n",
       "      <td>0.2565</td>\n",
       "      <td>801.09</td>\n",
       "      <td>28000.0</td>\n",
       "      <td>28.42</td>\n",
       "      <td>0.0</td>\n",
       "      <td>0.0</td>\n",
       "      <td>15.0</td>\n",
       "      <td>...</td>\n",
       "      <td>0</td>\n",
       "      <td>1</td>\n",
       "      <td>0</td>\n",
       "      <td>1</td>\n",
       "      <td>1</td>\n",
       "      <td>0</td>\n",
       "      <td>1</td>\n",
       "      <td>0</td>\n",
       "      <td>1</td>\n",
       "      <td>0</td>\n",
       "    </tr>\n",
       "    <tr>\n",
       "      <th>12176</th>\n",
       "      <td>354944</td>\n",
       "      <td>354944</td>\n",
       "      <td>15000.0</td>\n",
       "      <td>0.1774</td>\n",
       "      <td>540.34</td>\n",
       "      <td>50000.0</td>\n",
       "      <td>23.43</td>\n",
       "      <td>4.0</td>\n",
       "      <td>0.0</td>\n",
       "      <td>16.0</td>\n",
       "      <td>...</td>\n",
       "      <td>0</td>\n",
       "      <td>1</td>\n",
       "      <td>0</td>\n",
       "      <td>1</td>\n",
       "      <td>1</td>\n",
       "      <td>0</td>\n",
       "      <td>1</td>\n",
       "      <td>0</td>\n",
       "      <td>1</td>\n",
       "      <td>0</td>\n",
       "    </tr>\n",
       "    <tr>\n",
       "      <th>12177</th>\n",
       "      <td>354973</td>\n",
       "      <td>354973</td>\n",
       "      <td>3600.0</td>\n",
       "      <td>0.1862</td>\n",
       "      <td>131.28</td>\n",
       "      <td>60000.0</td>\n",
       "      <td>28.80</td>\n",
       "      <td>0.0</td>\n",
       "      <td>1.0</td>\n",
       "      <td>14.0</td>\n",
       "      <td>...</td>\n",
       "      <td>0</td>\n",
       "      <td>1</td>\n",
       "      <td>0</td>\n",
       "      <td>1</td>\n",
       "      <td>1</td>\n",
       "      <td>0</td>\n",
       "      <td>1</td>\n",
       "      <td>0</td>\n",
       "      <td>1</td>\n",
       "      <td>0</td>\n",
       "    </tr>\n",
       "    <tr>\n",
       "      <th>12178</th>\n",
       "      <td>355002</td>\n",
       "      <td>355002</td>\n",
       "      <td>15000.0</td>\n",
       "      <td>0.0881</td>\n",
       "      <td>475.68</td>\n",
       "      <td>62000.0</td>\n",
       "      <td>11.44</td>\n",
       "      <td>0.0</td>\n",
       "      <td>0.0</td>\n",
       "      <td>5.0</td>\n",
       "      <td>...</td>\n",
       "      <td>0</td>\n",
       "      <td>1</td>\n",
       "      <td>0</td>\n",
       "      <td>1</td>\n",
       "      <td>0</td>\n",
       "      <td>1</td>\n",
       "      <td>1</td>\n",
       "      <td>0</td>\n",
       "      <td>1</td>\n",
       "      <td>0</td>\n",
       "    </tr>\n",
       "    <tr>\n",
       "      <th>12179</th>\n",
       "      <td>355307</td>\n",
       "      <td>355307</td>\n",
       "      <td>15000.0</td>\n",
       "      <td>0.1774</td>\n",
       "      <td>540.34</td>\n",
       "      <td>54080.0</td>\n",
       "      <td>21.66</td>\n",
       "      <td>1.0</td>\n",
       "      <td>1.0</td>\n",
       "      <td>5.0</td>\n",
       "      <td>...</td>\n",
       "      <td>0</td>\n",
       "      <td>1</td>\n",
       "      <td>1</td>\n",
       "      <td>0</td>\n",
       "      <td>1</td>\n",
       "      <td>0</td>\n",
       "      <td>1</td>\n",
       "      <td>0</td>\n",
       "      <td>1</td>\n",
       "      <td>0</td>\n",
       "    </tr>\n",
       "  </tbody>\n",
       "</table>\n",
       "<p>12180 rows × 96 columns</p>\n",
       "</div>"
      ],
      "text/plain": [
       "       Unnamed: 0   index  loan_amnt  int_rate  installment  annual_inc  \\\n",
       "0           57107   57107    13375.0    0.1797       483.34    223000.0   \n",
       "1          141451  141451    21000.0    0.1308       478.68    123000.0   \n",
       "2          321143  321143    20000.0    0.1240       448.95    197000.0   \n",
       "3           11778   11778     3000.0    0.1240       100.22     45000.0   \n",
       "4          169382  169382    30000.0    0.1612      1056.49    133000.0   \n",
       "...           ...     ...        ...       ...          ...         ...   \n",
       "12175      354912  354912    19975.0    0.2565       801.09     28000.0   \n",
       "12176      354944  354944    15000.0    0.1774       540.34     50000.0   \n",
       "12177      354973  354973     3600.0    0.1862       131.28     60000.0   \n",
       "12178      355002  355002    15000.0    0.0881       475.68     62000.0   \n",
       "12179      355307  355307    15000.0    0.1774       540.34     54080.0   \n",
       "\n",
       "         dti  delinq_2yrs  inq_last_6mths  open_acc  ...  \\\n",
       "0      29.99          0.0             0.0      15.0  ...   \n",
       "1      11.26          2.0             0.0      16.0  ...   \n",
       "2      11.28          0.0             0.0      12.0  ...   \n",
       "3      18.08          0.0             0.0      12.0  ...   \n",
       "4      27.77          0.0             2.0      13.0  ...   \n",
       "...      ...          ...             ...       ...  ...   \n",
       "12175  28.42          0.0             0.0      15.0  ...   \n",
       "12176  23.43          4.0             0.0      16.0  ...   \n",
       "12177  28.80          0.0             1.0      14.0  ...   \n",
       "12178  11.44          0.0             0.0       5.0  ...   \n",
       "12179  21.66          1.0             1.0       5.0  ...   \n",
       "\n",
       "       loan_status_low_risk  pymnt_plan_n  initial_list_status_f  \\\n",
       "0                         1             1                      0   \n",
       "1                         1             1                      0   \n",
       "2                         1             1                      0   \n",
       "3                         1             1                      0   \n",
       "4                         1             1                      0   \n",
       "...                     ...           ...                    ...   \n",
       "12175                     0             1                      0   \n",
       "12176                     0             1                      0   \n",
       "12177                     0             1                      0   \n",
       "12178                     0             1                      0   \n",
       "12179                     0             1                      1   \n",
       "\n",
       "       initial_list_status_w  application_type_Individual  \\\n",
       "0                          1                            1   \n",
       "1                          1                            1   \n",
       "2                          1                            1   \n",
       "3                          1                            1   \n",
       "4                          1                            1   \n",
       "...                      ...                          ...   \n",
       "12175                      1                            1   \n",
       "12176                      1                            1   \n",
       "12177                      1                            1   \n",
       "12178                      1                            0   \n",
       "12179                      0                            1   \n",
       "\n",
       "       application_type_Joint App  hardship_flag_N  hardship_flag_Y  \\\n",
       "0                               0                1                0   \n",
       "1                               0                1                0   \n",
       "2                               0                1                0   \n",
       "3                               0                1                0   \n",
       "4                               0                1                0   \n",
       "...                           ...              ...              ...   \n",
       "12175                           0                1                0   \n",
       "12176                           0                1                0   \n",
       "12177                           0                1                0   \n",
       "12178                           1                1                0   \n",
       "12179                           0                1                0   \n",
       "\n",
       "       debt_settlement_flag_N  debt_settlement_flag_Y  \n",
       "0                           1                       0  \n",
       "1                           1                       0  \n",
       "2                           1                       0  \n",
       "3                           1                       0  \n",
       "4                           1                       0  \n",
       "...                       ...                     ...  \n",
       "12175                       1                       0  \n",
       "12176                       1                       0  \n",
       "12177                       1                       0  \n",
       "12178                       1                       0  \n",
       "12179                       1                       0  \n",
       "\n",
       "[12180 rows x 96 columns]"
      ]
     },
     "execution_count": 3,
     "metadata": {},
     "output_type": "execute_result"
    }
   ],
   "source": [
    "# Convert categorical data to numeric for training data\n",
    "\n",
    "train_cat = pd.get_dummies(train_df)\n",
    "print(train_cat.columns)\n",
    "train_cat"
   ]
  },
  {
   "cell_type": "code",
   "execution_count": 4,
   "metadata": {},
   "outputs": [
    {
     "name": "stdout",
     "output_type": "stream",
     "text": [
      "Index(['Unnamed: 0', 'index', 'loan_amnt', 'int_rate', 'installment',\n",
      "       'annual_inc', 'dti', 'delinq_2yrs', 'inq_last_6mths', 'open_acc',\n",
      "       'pub_rec', 'revol_bal', 'total_acc', 'out_prncp', 'out_prncp_inv',\n",
      "       'total_pymnt', 'total_pymnt_inv', 'total_rec_prncp', 'total_rec_int',\n",
      "       'total_rec_late_fee', 'recoveries', 'collection_recovery_fee',\n",
      "       'last_pymnt_amnt', 'collections_12_mths_ex_med', 'policy_code',\n",
      "       'acc_now_delinq', 'tot_coll_amt', 'tot_cur_bal', 'open_acc_6m',\n",
      "       'open_act_il', 'open_il_12m', 'open_il_24m', 'mths_since_rcnt_il',\n",
      "       'total_bal_il', 'il_util', 'open_rv_12m', 'open_rv_24m', 'max_bal_bc',\n",
      "       'all_util', 'total_rev_hi_lim', 'inq_fi', 'total_cu_tl', 'inq_last_12m',\n",
      "       'acc_open_past_24mths', 'avg_cur_bal', 'bc_open_to_buy', 'bc_util',\n",
      "       'chargeoff_within_12_mths', 'delinq_amnt', 'mo_sin_old_il_acct',\n",
      "       'mo_sin_old_rev_tl_op', 'mo_sin_rcnt_rev_tl_op', 'mo_sin_rcnt_tl',\n",
      "       'mort_acc', 'mths_since_recent_bc', 'mths_since_recent_inq',\n",
      "       'num_accts_ever_120_pd', 'num_actv_bc_tl', 'num_actv_rev_tl',\n",
      "       'num_bc_sats', 'num_bc_tl', 'num_il_tl', 'num_op_rev_tl',\n",
      "       'num_rev_accts', 'num_rev_tl_bal_gt_0', 'num_sats', 'num_tl_120dpd_2m',\n",
      "       'num_tl_30dpd', 'num_tl_90g_dpd_24m', 'num_tl_op_past_12m',\n",
      "       'pct_tl_nvr_dlq', 'percent_bc_gt_75', 'pub_rec_bankruptcies',\n",
      "       'tax_liens', 'tot_hi_cred_lim', 'total_bal_ex_mort', 'total_bc_limit',\n",
      "       'total_il_high_credit_limit', 'home_ownership_ANY',\n",
      "       'home_ownership_MORTGAGE', 'home_ownership_OWN', 'home_ownership_RENT',\n",
      "       'verification_status_Not Verified',\n",
      "       'verification_status_Source Verified', 'verification_status_Verified',\n",
      "       'loan_status_high_risk', 'loan_status_low_risk', 'pymnt_plan_n',\n",
      "       'initial_list_status_f', 'initial_list_status_w',\n",
      "       'application_type_Individual', 'application_type_Joint App',\n",
      "       'hardship_flag_N', 'hardship_flag_Y', 'debt_settlement_flag_Y',\n",
      "       'debt_settlement_flag_N'],\n",
      "      dtype='object')\n"
     ]
    },
    {
     "data": {
      "text/html": [
       "<div>\n",
       "<style scoped>\n",
       "    .dataframe tbody tr th:only-of-type {\n",
       "        vertical-align: middle;\n",
       "    }\n",
       "\n",
       "    .dataframe tbody tr th {\n",
       "        vertical-align: top;\n",
       "    }\n",
       "\n",
       "    .dataframe thead th {\n",
       "        text-align: right;\n",
       "    }\n",
       "</style>\n",
       "<table border=\"1\" class=\"dataframe\">\n",
       "  <thead>\n",
       "    <tr style=\"text-align: right;\">\n",
       "      <th></th>\n",
       "      <th>Unnamed: 0</th>\n",
       "      <th>index</th>\n",
       "      <th>loan_amnt</th>\n",
       "      <th>int_rate</th>\n",
       "      <th>installment</th>\n",
       "      <th>annual_inc</th>\n",
       "      <th>dti</th>\n",
       "      <th>delinq_2yrs</th>\n",
       "      <th>inq_last_6mths</th>\n",
       "      <th>open_acc</th>\n",
       "      <th>...</th>\n",
       "      <th>loan_status_low_risk</th>\n",
       "      <th>pymnt_plan_n</th>\n",
       "      <th>initial_list_status_f</th>\n",
       "      <th>initial_list_status_w</th>\n",
       "      <th>application_type_Individual</th>\n",
       "      <th>application_type_Joint App</th>\n",
       "      <th>hardship_flag_N</th>\n",
       "      <th>hardship_flag_Y</th>\n",
       "      <th>debt_settlement_flag_Y</th>\n",
       "      <th>debt_settlement_flag_N</th>\n",
       "    </tr>\n",
       "  </thead>\n",
       "  <tbody>\n",
       "    <tr>\n",
       "      <th>0</th>\n",
       "      <td>67991</td>\n",
       "      <td>67991</td>\n",
       "      <td>40000.0</td>\n",
       "      <td>0.0819</td>\n",
       "      <td>814.70</td>\n",
       "      <td>140000.0</td>\n",
       "      <td>19.75</td>\n",
       "      <td>0.0</td>\n",
       "      <td>1.0</td>\n",
       "      <td>18.0</td>\n",
       "      <td>...</td>\n",
       "      <td>1</td>\n",
       "      <td>1</td>\n",
       "      <td>0</td>\n",
       "      <td>1</td>\n",
       "      <td>1</td>\n",
       "      <td>0</td>\n",
       "      <td>1</td>\n",
       "      <td>0</td>\n",
       "      <td>0</td>\n",
       "      <td>1</td>\n",
       "    </tr>\n",
       "    <tr>\n",
       "      <th>1</th>\n",
       "      <td>25429</td>\n",
       "      <td>25429</td>\n",
       "      <td>6000.0</td>\n",
       "      <td>0.1524</td>\n",
       "      <td>208.70</td>\n",
       "      <td>55000.0</td>\n",
       "      <td>11.52</td>\n",
       "      <td>2.0</td>\n",
       "      <td>0.0</td>\n",
       "      <td>8.0</td>\n",
       "      <td>...</td>\n",
       "      <td>1</td>\n",
       "      <td>1</td>\n",
       "      <td>0</td>\n",
       "      <td>1</td>\n",
       "      <td>1</td>\n",
       "      <td>0</td>\n",
       "      <td>1</td>\n",
       "      <td>0</td>\n",
       "      <td>0</td>\n",
       "      <td>1</td>\n",
       "    </tr>\n",
       "    <tr>\n",
       "      <th>2</th>\n",
       "      <td>38496</td>\n",
       "      <td>38496</td>\n",
       "      <td>3600.0</td>\n",
       "      <td>0.1695</td>\n",
       "      <td>128.27</td>\n",
       "      <td>42000.0</td>\n",
       "      <td>6.74</td>\n",
       "      <td>0.0</td>\n",
       "      <td>0.0</td>\n",
       "      <td>6.0</td>\n",
       "      <td>...</td>\n",
       "      <td>1</td>\n",
       "      <td>1</td>\n",
       "      <td>0</td>\n",
       "      <td>1</td>\n",
       "      <td>1</td>\n",
       "      <td>0</td>\n",
       "      <td>1</td>\n",
       "      <td>0</td>\n",
       "      <td>0</td>\n",
       "      <td>1</td>\n",
       "    </tr>\n",
       "    <tr>\n",
       "      <th>3</th>\n",
       "      <td>19667</td>\n",
       "      <td>19667</td>\n",
       "      <td>20000.0</td>\n",
       "      <td>0.1524</td>\n",
       "      <td>478.33</td>\n",
       "      <td>100000.0</td>\n",
       "      <td>12.13</td>\n",
       "      <td>0.0</td>\n",
       "      <td>2.0</td>\n",
       "      <td>7.0</td>\n",
       "      <td>...</td>\n",
       "      <td>1</td>\n",
       "      <td>1</td>\n",
       "      <td>0</td>\n",
       "      <td>1</td>\n",
       "      <td>1</td>\n",
       "      <td>0</td>\n",
       "      <td>1</td>\n",
       "      <td>0</td>\n",
       "      <td>0</td>\n",
       "      <td>1</td>\n",
       "    </tr>\n",
       "    <tr>\n",
       "      <th>4</th>\n",
       "      <td>37505</td>\n",
       "      <td>37505</td>\n",
       "      <td>3600.0</td>\n",
       "      <td>0.1240</td>\n",
       "      <td>120.27</td>\n",
       "      <td>50000.0</td>\n",
       "      <td>16.08</td>\n",
       "      <td>0.0</td>\n",
       "      <td>3.0</td>\n",
       "      <td>6.0</td>\n",
       "      <td>...</td>\n",
       "      <td>1</td>\n",
       "      <td>1</td>\n",
       "      <td>0</td>\n",
       "      <td>1</td>\n",
       "      <td>1</td>\n",
       "      <td>0</td>\n",
       "      <td>1</td>\n",
       "      <td>0</td>\n",
       "      <td>0</td>\n",
       "      <td>1</td>\n",
       "    </tr>\n",
       "    <tr>\n",
       "      <th>...</th>\n",
       "      <td>...</td>\n",
       "      <td>...</td>\n",
       "      <td>...</td>\n",
       "      <td>...</td>\n",
       "      <td>...</td>\n",
       "      <td>...</td>\n",
       "      <td>...</td>\n",
       "      <td>...</td>\n",
       "      <td>...</td>\n",
       "      <td>...</td>\n",
       "      <td>...</td>\n",
       "      <td>...</td>\n",
       "      <td>...</td>\n",
       "      <td>...</td>\n",
       "      <td>...</td>\n",
       "      <td>...</td>\n",
       "      <td>...</td>\n",
       "      <td>...</td>\n",
       "      <td>...</td>\n",
       "      <td>...</td>\n",
       "      <td>...</td>\n",
       "    </tr>\n",
       "    <tr>\n",
       "      <th>4697</th>\n",
       "      <td>77282</td>\n",
       "      <td>77282</td>\n",
       "      <td>30000.0</td>\n",
       "      <td>0.1240</td>\n",
       "      <td>673.42</td>\n",
       "      <td>140480.0</td>\n",
       "      <td>15.74</td>\n",
       "      <td>0.0</td>\n",
       "      <td>0.0</td>\n",
       "      <td>20.0</td>\n",
       "      <td>...</td>\n",
       "      <td>0</td>\n",
       "      <td>1</td>\n",
       "      <td>1</td>\n",
       "      <td>0</td>\n",
       "      <td>1</td>\n",
       "      <td>0</td>\n",
       "      <td>1</td>\n",
       "      <td>0</td>\n",
       "      <td>0</td>\n",
       "      <td>1</td>\n",
       "    </tr>\n",
       "    <tr>\n",
       "      <th>4698</th>\n",
       "      <td>77291</td>\n",
       "      <td>77291</td>\n",
       "      <td>24000.0</td>\n",
       "      <td>0.0756</td>\n",
       "      <td>747.22</td>\n",
       "      <td>50000.0</td>\n",
       "      <td>26.81</td>\n",
       "      <td>0.0</td>\n",
       "      <td>0.0</td>\n",
       "      <td>9.0</td>\n",
       "      <td>...</td>\n",
       "      <td>0</td>\n",
       "      <td>1</td>\n",
       "      <td>0</td>\n",
       "      <td>1</td>\n",
       "      <td>1</td>\n",
       "      <td>0</td>\n",
       "      <td>1</td>\n",
       "      <td>0</td>\n",
       "      <td>0</td>\n",
       "      <td>1</td>\n",
       "    </tr>\n",
       "    <tr>\n",
       "      <th>4699</th>\n",
       "      <td>77292</td>\n",
       "      <td>77292</td>\n",
       "      <td>10000.0</td>\n",
       "      <td>0.2305</td>\n",
       "      <td>387.36</td>\n",
       "      <td>33000.0</td>\n",
       "      <td>38.51</td>\n",
       "      <td>0.0</td>\n",
       "      <td>2.0</td>\n",
       "      <td>7.0</td>\n",
       "      <td>...</td>\n",
       "      <td>0</td>\n",
       "      <td>1</td>\n",
       "      <td>1</td>\n",
       "      <td>0</td>\n",
       "      <td>1</td>\n",
       "      <td>0</td>\n",
       "      <td>1</td>\n",
       "      <td>0</td>\n",
       "      <td>0</td>\n",
       "      <td>1</td>\n",
       "    </tr>\n",
       "    <tr>\n",
       "      <th>4700</th>\n",
       "      <td>77297</td>\n",
       "      <td>77297</td>\n",
       "      <td>8000.0</td>\n",
       "      <td>0.1862</td>\n",
       "      <td>205.86</td>\n",
       "      <td>38000.0</td>\n",
       "      <td>16.36</td>\n",
       "      <td>0.0</td>\n",
       "      <td>1.0</td>\n",
       "      <td>8.0</td>\n",
       "      <td>...</td>\n",
       "      <td>0</td>\n",
       "      <td>1</td>\n",
       "      <td>0</td>\n",
       "      <td>1</td>\n",
       "      <td>1</td>\n",
       "      <td>0</td>\n",
       "      <td>1</td>\n",
       "      <td>0</td>\n",
       "      <td>0</td>\n",
       "      <td>1</td>\n",
       "    </tr>\n",
       "    <tr>\n",
       "      <th>4701</th>\n",
       "      <td>77304</td>\n",
       "      <td>77304</td>\n",
       "      <td>30000.0</td>\n",
       "      <td>0.2055</td>\n",
       "      <td>1123.34</td>\n",
       "      <td>180000.0</td>\n",
       "      <td>12.06</td>\n",
       "      <td>0.0</td>\n",
       "      <td>0.0</td>\n",
       "      <td>8.0</td>\n",
       "      <td>...</td>\n",
       "      <td>0</td>\n",
       "      <td>1</td>\n",
       "      <td>1</td>\n",
       "      <td>0</td>\n",
       "      <td>1</td>\n",
       "      <td>0</td>\n",
       "      <td>1</td>\n",
       "      <td>0</td>\n",
       "      <td>0</td>\n",
       "      <td>1</td>\n",
       "    </tr>\n",
       "  </tbody>\n",
       "</table>\n",
       "<p>4702 rows × 96 columns</p>\n",
       "</div>"
      ],
      "text/plain": [
       "      Unnamed: 0  index  loan_amnt  int_rate  installment  annual_inc    dti  \\\n",
       "0          67991  67991    40000.0    0.0819       814.70    140000.0  19.75   \n",
       "1          25429  25429     6000.0    0.1524       208.70     55000.0  11.52   \n",
       "2          38496  38496     3600.0    0.1695       128.27     42000.0   6.74   \n",
       "3          19667  19667    20000.0    0.1524       478.33    100000.0  12.13   \n",
       "4          37505  37505     3600.0    0.1240       120.27     50000.0  16.08   \n",
       "...          ...    ...        ...       ...          ...         ...    ...   \n",
       "4697       77282  77282    30000.0    0.1240       673.42    140480.0  15.74   \n",
       "4698       77291  77291    24000.0    0.0756       747.22     50000.0  26.81   \n",
       "4699       77292  77292    10000.0    0.2305       387.36     33000.0  38.51   \n",
       "4700       77297  77297     8000.0    0.1862       205.86     38000.0  16.36   \n",
       "4701       77304  77304    30000.0    0.2055      1123.34    180000.0  12.06   \n",
       "\n",
       "      delinq_2yrs  inq_last_6mths  open_acc  ...  loan_status_low_risk  \\\n",
       "0             0.0             1.0      18.0  ...                     1   \n",
       "1             2.0             0.0       8.0  ...                     1   \n",
       "2             0.0             0.0       6.0  ...                     1   \n",
       "3             0.0             2.0       7.0  ...                     1   \n",
       "4             0.0             3.0       6.0  ...                     1   \n",
       "...           ...             ...       ...  ...                   ...   \n",
       "4697          0.0             0.0      20.0  ...                     0   \n",
       "4698          0.0             0.0       9.0  ...                     0   \n",
       "4699          0.0             2.0       7.0  ...                     0   \n",
       "4700          0.0             1.0       8.0  ...                     0   \n",
       "4701          0.0             0.0       8.0  ...                     0   \n",
       "\n",
       "      pymnt_plan_n  initial_list_status_f  initial_list_status_w  \\\n",
       "0                1                      0                      1   \n",
       "1                1                      0                      1   \n",
       "2                1                      0                      1   \n",
       "3                1                      0                      1   \n",
       "4                1                      0                      1   \n",
       "...            ...                    ...                    ...   \n",
       "4697             1                      1                      0   \n",
       "4698             1                      0                      1   \n",
       "4699             1                      1                      0   \n",
       "4700             1                      0                      1   \n",
       "4701             1                      1                      0   \n",
       "\n",
       "      application_type_Individual  application_type_Joint App  \\\n",
       "0                               1                           0   \n",
       "1                               1                           0   \n",
       "2                               1                           0   \n",
       "3                               1                           0   \n",
       "4                               1                           0   \n",
       "...                           ...                         ...   \n",
       "4697                            1                           0   \n",
       "4698                            1                           0   \n",
       "4699                            1                           0   \n",
       "4700                            1                           0   \n",
       "4701                            1                           0   \n",
       "\n",
       "      hardship_flag_N  hardship_flag_Y  debt_settlement_flag_Y  \\\n",
       "0                   1                0                       0   \n",
       "1                   1                0                       0   \n",
       "2                   1                0                       0   \n",
       "3                   1                0                       0   \n",
       "4                   1                0                       0   \n",
       "...               ...              ...                     ...   \n",
       "4697                1                0                       0   \n",
       "4698                1                0                       0   \n",
       "4699                1                0                       0   \n",
       "4700                1                0                       0   \n",
       "4701                1                0                       0   \n",
       "\n",
       "      debt_settlement_flag_N  \n",
       "0                          1  \n",
       "1                          1  \n",
       "2                          1  \n",
       "3                          1  \n",
       "4                          1  \n",
       "...                      ...  \n",
       "4697                       1  \n",
       "4698                       1  \n",
       "4699                       1  \n",
       "4700                       1  \n",
       "4701                       1  \n",
       "\n",
       "[4702 rows x 96 columns]"
      ]
     },
     "execution_count": 4,
     "metadata": {},
     "output_type": "execute_result"
    }
   ],
   "source": [
    "# Convert categorical data to numeric testing data\n",
    "from pandas.api.types import CategoricalDtype \n",
    "test_df['debt_settlement_flag'] = test_df['debt_settlement_flag'].astype(CategoricalDtype([\"Y\", \"N\"])) \n",
    "test_cat = pd.get_dummies(test_df)\n",
    "print(test_cat.columns)\n",
    "test_cat"
   ]
  },
  {
   "cell_type": "code",
   "execution_count": 5,
   "metadata": {},
   "outputs": [],
   "source": [
    "#drop irrelevant variables for and seperate x and y for training\n",
    "ytrain = train_cat['loan_status_high_risk']\n",
    "xtrain = train_cat.drop(['Unnamed: 0', 'index', 'loan_status_high_risk', 'loan_status_low_risk'], axis=1)"
   ]
  },
  {
   "cell_type": "code",
   "execution_count": 6,
   "metadata": {},
   "outputs": [],
   "source": [
    "#drop irrelevant variables for and seperate x and y for testing\n",
    "ytest = test_cat['loan_status_high_risk']\n",
    "xtest = test_cat.drop(['Unnamed: 0', 'index', 'loan_status_high_risk','loan_status_low_risk'], axis=1)"
   ]
  },
  {
   "cell_type": "code",
   "execution_count": 7,
   "metadata": {},
   "outputs": [],
   "source": [
    "#add zero in columns where you don't have data in testing\n",
    "#This is right now\n",
    "# for column in xtrain.columns:\n",
    "#     if column not in xtest.columns:\n",
    "#         xtest[column]= 0\n",
    "\n",
    "        \n",
    "        #xtest['debt_settlement_flag_Y'] = xtest['']"
   ]
  },
  {
   "cell_type": "code",
   "execution_count": 8,
   "metadata": {},
   "outputs": [],
   "source": [
    "#import sklearn modules to estimate variables\n",
    "from sklearn.linear_model import LogisticRegression\n",
    "from sklearn.metrics import mean_squared_error, r2_score\n",
    "from sklearn.metrics import classification_report, confusion_matrix\n",
    "\n",
    "#log_model = LogisticRegression(max_iter = 500000)\n",
    "#log_model.fit(xtrain, ytrain)"
   ]
  },
  {
   "cell_type": "code",
   "execution_count": 9,
   "metadata": {},
   "outputs": [
    {
     "data": {
      "text/plain": [
       "LogisticRegression(max_iter=5000, random_state=42)"
      ]
     },
     "execution_count": 9,
     "metadata": {},
     "output_type": "execute_result"
    }
   ],
   "source": [
    "#create a logistic regression model\n",
    "classifier = LogisticRegression(max_iter=5000, random_state=42)\n",
    "classifier"
   ]
  },
  {
   "cell_type": "code",
   "execution_count": 10,
   "metadata": {},
   "outputs": [
    {
     "name": "stdout",
     "output_type": "stream",
     "text": [
      "Logistic Regression Training Data Score: 0.6958128078817734\n",
      "Logistic Regression Testing Data Score: 0.5708209272649937\n"
     ]
    }
   ],
   "source": [
    "#Train our model using the training data: output training and testing scores\n",
    "classifier.fit(xtrain, ytrain)\n",
    "print(f\"Logistic Regression Training Data Score: {classifier.score(xtrain, ytrain)}\")\n",
    "print(f\"Logistic Regression Testing Data Score: {classifier.score(xtest, ytest)}\")"
   ]
  },
  {
   "cell_type": "code",
   "execution_count": 11,
   "metadata": {},
   "outputs": [
    {
     "name": "stdout",
     "output_type": "stream",
     "text": [
      "Logistic Regression Classification Report\n",
      "              precision    recall  f1-score   support\n",
      "\n",
      "           0       0.55      0.79      0.65      2351\n",
      "           1       0.62      0.36      0.45      2351\n",
      "\n",
      "    accuracy                           0.57      4702\n",
      "   macro avg       0.59      0.57      0.55      4702\n",
      "weighted avg       0.59      0.57      0.55      4702\n",
      "\n"
     ]
    }
   ],
   "source": [
    "#to get the classification report\n",
    "predictions = classifier.predict(xtest)\n",
    "print(f'Logistic Regression Classification Report')\n",
    "print(classification_report(ytest, predictions))"
   ]
  },
  {
   "cell_type": "code",
   "execution_count": 12,
   "metadata": {},
   "outputs": [],
   "source": [
    "#Logistic regression hyperperameter tunin\n",
    "solvers = ['liblinear']\n",
    "penalty = ['l2', 'l1']\n",
    "c_values = [10, 1.0, 0.1]\n",
    "# define grid search\n",
    "grid = dict(solver=solvers,penalty=penalty,C=c_values)"
   ]
  },
  {
   "cell_type": "code",
   "execution_count": 13,
   "metadata": {},
   "outputs": [],
   "source": [
    "# Create the grid search estimator along with a parameter object containing the values to adjust.\n",
    "from sklearn.model_selection import GridSearchCV\n",
    "\n",
    "clf= GridSearchCV(classifier, param_grid = grid, cv = 2, verbose=True, n_jobs=-1)"
   ]
  },
  {
   "cell_type": "code",
   "execution_count": 14,
   "metadata": {},
   "outputs": [
    {
     "name": "stdout",
     "output_type": "stream",
     "text": [
      "Fitting 2 folds for each of 6 candidates, totalling 12 fits\n"
     ]
    },
    {
     "name": "stderr",
     "output_type": "stream",
     "text": [
      "[Parallel(n_jobs=-1)]: Using backend LokyBackend with 4 concurrent workers.\n",
      "[Parallel(n_jobs=-1)]: Done  12 out of  12 | elapsed:  1.2min finished\n"
     ]
    }
   ],
   "source": [
    "# Fit the model by using the randomized search estimator.\n",
    "# This will take the logistic regression model and a random sample of combinations of parameters.\n",
    "best_clf = clf.fit(xtrain,ytrain)\n"
   ]
  },
  {
   "cell_type": "markdown",
   "metadata": {},
   "source": [
    "* overfitting = 'high variance, low bias' <- solution to overfitting is 'regularization'\n",
    "* underfitting = 'high bias, low variance' <- more training (iter), more data, different model"
   ]
  },
  {
   "cell_type": "code",
   "execution_count": 15,
   "metadata": {},
   "outputs": [
    {
     "data": {
      "text/plain": [
       "LogisticRegression(C=0.1, max_iter=5000, random_state=42, solver='liblinear')"
      ]
     },
     "execution_count": 15,
     "metadata": {},
     "output_type": "execute_result"
    }
   ],
   "source": [
    "#print the best parameters for the dataset\n",
    "best_clf.best_estimator_"
   ]
  },
  {
   "cell_type": "code",
   "execution_count": 16,
   "metadata": {},
   "outputs": [
    {
     "data": {
      "text/plain": [
       "0.5754997873245428"
      ]
     },
     "execution_count": 16,
     "metadata": {},
     "output_type": "execute_result"
    }
   ],
   "source": [
    "#list the best score\n",
    "best_clf.score(xtest,ytest)"
   ]
  },
  {
   "cell_type": "code",
   "execution_count": 17,
   "metadata": {},
   "outputs": [],
   "source": [
    "#make predictions with the hypertuned model\n",
    "predictions = best_clf.predict(xtest)"
   ]
  },
  {
   "cell_type": "code",
   "execution_count": 18,
   "metadata": {},
   "outputs": [
    {
     "name": "stdout",
     "output_type": "stream",
     "text": [
      "Tuned Estimates for Logistic Regression\n",
      "              precision    recall  f1-score   support\n",
      "\n",
      "           0       0.55      0.79      0.65      2351\n",
      "           1       0.63      0.36      0.46      2351\n",
      "\n",
      "    accuracy                           0.58      4702\n",
      "   macro avg       0.59      0.58      0.55      4702\n",
      "weighted avg       0.59      0.58      0.55      4702\n",
      "\n"
     ]
    }
   ],
   "source": [
    "print(f'Tuned Estimates for Logistic Regression')\n",
    "print(classification_report(ytest, predictions))"
   ]
  },
  {
   "cell_type": "code",
   "execution_count": null,
   "metadata": {},
   "outputs": [],
   "source": []
  },
  {
   "cell_type": "markdown",
   "metadata": {},
   "source": [
    "Random Forest Model Testing and Tuning"
   ]
  },
  {
   "cell_type": "code",
   "execution_count": 19,
   "metadata": {},
   "outputs": [],
   "source": [
    "#Specisify the Random Forest Model\n",
    "from sklearn.ensemble import RandomForestClassifier\n",
    "rf_model = RandomForestClassifier(random_state=42, n_estimators=100)"
   ]
  },
  {
   "cell_type": "code",
   "execution_count": 20,
   "metadata": {},
   "outputs": [
    {
     "data": {
      "text/plain": [
       "RandomForestClassifier(random_state=42)"
      ]
     },
     "execution_count": 20,
     "metadata": {},
     "output_type": "execute_result"
    }
   ],
   "source": [
    "#Train our model using the training data: output training and testing scores\n",
    "rf_model.fit(xtrain, ytrain)"
   ]
  },
  {
   "cell_type": "code",
   "execution_count": 21,
   "metadata": {},
   "outputs": [
    {
     "data": {
      "text/plain": [
       "1.0"
      ]
     },
     "execution_count": 21,
     "metadata": {},
     "output_type": "execute_result"
    }
   ],
   "source": [
    "#Print training Score\n",
    "rf_model.score(xtrain, ytrain)"
   ]
  },
  {
   "cell_type": "code",
   "execution_count": 22,
   "metadata": {},
   "outputs": [
    {
     "data": {
      "text/plain": [
       "0.6405784772437261"
      ]
     },
     "execution_count": 22,
     "metadata": {},
     "output_type": "execute_result"
    }
   ],
   "source": [
    "#print testing score\n",
    "rf_model.score(xtest, ytest)\n",
    "\n",
    "#This model is over fitting"
   ]
  },
  {
   "cell_type": "code",
   "execution_count": 23,
   "metadata": {},
   "outputs": [
    {
     "name": "stdout",
     "output_type": "stream",
     "text": [
      "Untunned Estimated for Random Forest\n",
      "              precision    recall  f1-score   support\n",
      "\n",
      "           0       0.70      0.49      0.58      2351\n",
      "           1       0.61      0.79      0.69      2351\n",
      "\n",
      "    accuracy                           0.64      4702\n",
      "   macro avg       0.66      0.64      0.63      4702\n",
      "weighted avg       0.66      0.64      0.63      4702\n",
      "\n"
     ]
    }
   ],
   "source": [
    "#to get the classification report for Random Forest\n",
    "predictions = rf_model.predict(xtest)\n",
    "print(f'Untunned Estimated for Random Forest')\n",
    "print(classification_report(ytest, predictions))"
   ]
  },
  {
   "cell_type": "code",
   "execution_count": 24,
   "metadata": {},
   "outputs": [
    {
     "data": {
      "image/png": "[encoded data removed]",
      "text/plain": [
       "<Figure size 432x288 with 1 Axes>"
      ]
     },
     "metadata": {
      "needs_background": "light"
     },
     "output_type": "display_data"
    }
   ],
   "source": [
    "%matplotlib inline\n",
    "from matplotlib import pyplot as plt\n",
    "#identify feature importance\n",
    "features = rf_model.feature_importances_\n",
    "plt.bar(x= range(len(features)), height=features)\n",
    "plt.show()"
   ]
  },
  {
   "cell_type": "code",
   "execution_count": 25,
   "metadata": {},
   "outputs": [
    {
     "data": {
      "text/plain": [
       "array([ True,  True,  True,  True,  True, False, False, False, False,\n",
       "        True,  True,  True,  True,  True,  True,  True,  True,  True,\n",
       "       False, False,  True, False, False, False, False,  True, False,\n",
       "       False, False, False,  True,  True,  True, False, False,  True,\n",
       "        True,  True, False, False, False, False,  True,  True,  True,\n",
       "       False, False,  True,  True,  True, False, False,  True,  True,\n",
       "       False, False, False, False, False, False, False,  True, False,\n",
       "       False, False, False, False, False, False, False, False, False,\n",
       "        True,  True,  True,  True, False, False, False, False, False,\n",
       "       False, False, False, False, False, False, False, False, False,\n",
       "       False, False])"
      ]
     },
     "execution_count": 25,
     "metadata": {},
     "output_type": "execute_result"
    }
   ],
   "source": [
    "#identify and select top features\n",
    "from sklearn.feature_selection import SelectFromModel\n",
    "sel = SelectFromModel(rf_model)\n",
    "sel.fit(xtrain, ytrain)\n",
    "sel.get_support()"
   ]
  },
  {
   "cell_type": "code",
   "execution_count": 26,
   "metadata": {},
   "outputs": [
    {
     "data": {
      "text/plain": [
       "35"
      ]
     },
     "execution_count": 26,
     "metadata": {},
     "output_type": "execute_result"
    }
   ],
   "source": [
    "#list and count selected feature\n",
    "selected_feat = xtrain.columns[(sel.get_support())]\n",
    "len(selected_feat)"
   ]
  },
  {
   "cell_type": "code",
   "execution_count": 27,
   "metadata": {},
   "outputs": [
    {
     "name": "stdout",
     "output_type": "stream",
     "text": [
      "Index(['loan_amnt', 'int_rate', 'installment', 'annual_inc', 'dti',\n",
      "       'revol_bal', 'total_acc', 'out_prncp', 'out_prncp_inv', 'total_pymnt',\n",
      "       'total_pymnt_inv', 'total_rec_prncp', 'total_rec_int',\n",
      "       'total_rec_late_fee', 'last_pymnt_amnt', 'tot_cur_bal',\n",
      "       'mths_since_rcnt_il', 'total_bal_il', 'il_util', 'max_bal_bc',\n",
      "       'all_util', 'total_rev_hi_lim', 'avg_cur_bal', 'bc_open_to_buy',\n",
      "       'bc_util', 'mo_sin_old_il_acct', 'mo_sin_old_rev_tl_op',\n",
      "       'mo_sin_rcnt_rev_tl_op', 'mths_since_recent_bc',\n",
      "       'mths_since_recent_inq', 'num_rev_accts', 'tot_hi_cred_lim',\n",
      "       'total_bal_ex_mort', 'total_bc_limit', 'total_il_high_credit_limit'],\n",
      "      dtype='object')\n"
     ]
    }
   ],
   "source": [
    "#print the names of the selected features\n",
    "print(selected_feat)"
   ]
  },
  {
   "cell_type": "code",
   "execution_count": 28,
   "metadata": {},
   "outputs": [
    {
     "name": "stdout",
     "output_type": "stream",
     "text": [
      "{'bootstrap': [True, False],\n",
      " 'max_depth': [5, 10, 15],\n",
      " 'max_features': ['auto', 'sqrt'],\n",
      " 'min_samples_leaf': [1, 2, 4],\n",
      " 'min_samples_split': [3, 5, 7],\n",
      " 'n_estimators': [200, 500, 1000]}\n"
     ]
    }
   ],
   "source": [
    "#hyper perameter tuning random forest\n",
    "from sklearn.model_selection import RandomizedSearchCV\n",
    "from pprint import pprint\n",
    "# Number of trees in random forest\n",
    "#n_estimators = [int(x) for x in np.linspace(start = 200, stop = 2000, num = 10)]\n",
    "n_estimators = [200,500,1000]\n",
    "# Number of features to consider at every split\n",
    "max_features = ['auto', 'sqrt']\n",
    "# Maximum number of levels in tree\n",
    "#max_depth = [int(x) for x in np.linspace(10, 50, num = 5)]\n",
    "#max_depth.append(None)\n",
    "max_depth =[5,10,15]\n",
    "# Minimum number of samples required to split a node\n",
    "min_samples_split = [3, 5, 7]\n",
    "# Minimum number of samples required at each leaf node\n",
    "min_samples_leaf = [1, 2, 4]\n",
    "# Method of selecting samples for training each tree\n",
    "bootstrap = [True, False]\n",
    "# Create the random grid\n",
    "random_grid = {'n_estimators': n_estimators,\n",
    "               'max_features': max_features,\n",
    "               'max_depth': max_depth,\n",
    "               'min_samples_split': min_samples_split,\n",
    "               'min_samples_leaf': min_samples_leaf,\n",
    "               'bootstrap': bootstrap}\n",
    "pprint(random_grid)"
   ]
  },
  {
   "cell_type": "code",
   "execution_count": 29,
   "metadata": {},
   "outputs": [
    {
     "name": "stdout",
     "output_type": "stream",
     "text": [
      "Fitting 2 folds for each of 100 candidates, totalling 200 fits\n"
     ]
    },
    {
     "name": "stderr",
     "output_type": "stream",
     "text": [
      "[Parallel(n_jobs=-1)]: Using backend LokyBackend with 4 concurrent workers.\n",
      "[Parallel(n_jobs=-1)]: Done  33 tasks      | elapsed:  2.2min\n",
      "[Parallel(n_jobs=-1)]: Done 154 tasks      | elapsed: 10.2min\n",
      "[Parallel(n_jobs=-1)]: Done 200 out of 200 | elapsed: 13.6min finished\n"
     ]
    },
    {
     "data": {
      "text/plain": [
       "RandomizedSearchCV(cv=2, estimator=RandomForestClassifier(), n_iter=100,\n",
       "                   n_jobs=-1,\n",
       "                   param_distributions={'bootstrap': [True, False],\n",
       "                                        'max_depth': [5, 10, 15],\n",
       "                                        'max_features': ['auto', 'sqrt'],\n",
       "                                        'min_samples_leaf': [1, 2, 4],\n",
       "                                        'min_samples_split': [3, 5, 7],\n",
       "                                        'n_estimators': [200, 500, 1000]},\n",
       "                   random_state=42, verbose=2)"
      ]
     },
     "execution_count": 29,
     "metadata": {},
     "output_type": "execute_result"
    }
   ],
   "source": [
    "# Use the random grid to search for best hyperparameters\n",
    "# First create the base model to tune\n",
    "rf = RandomForestClassifier()\n",
    "\n",
    "#specify 3fold CV across 100 different combinations\n",
    "rf_random = RandomizedSearchCV(estimator=rf, \n",
    "                               param_distributions = random_grid,\n",
    "                               n_iter = 100, \n",
    "                               cv = 2, \n",
    "                               verbose=2, \n",
    "                               random_state=42, \n",
    "                               n_jobs = -1)\n",
    "\n",
    "#fit the random search model\n",
    "rf_random.fit(xtrain, ytrain)"
   ]
  },
  {
   "cell_type": "code",
   "execution_count": 30,
   "metadata": {},
   "outputs": [
    {
     "data": {
      "text/plain": [
       "{'n_estimators': 500,\n",
       " 'min_samples_split': 7,\n",
       " 'min_samples_leaf': 1,\n",
       " 'max_features': 'sqrt',\n",
       " 'max_depth': 15,\n",
       " 'bootstrap': False}"
      ]
     },
     "execution_count": 30,
     "metadata": {},
     "output_type": "execute_result"
    }
   ],
   "source": [
    "#Find the best parameters\n",
    "rf_random.best_params_"
   ]
  },
  {
   "cell_type": "code",
   "execution_count": 42,
   "metadata": {},
   "outputs": [],
   "source": [
    "#Rerun model with tuned factors\n",
    "rf2_model = RandomForestClassifier(random_state=42, \n",
    "                                  n_estimators=1000,\n",
    "                                  min_samples_split=5,\n",
    "                                  min_samples_leaf=1,\n",
    "                                  max_features='sqrt',\n",
    "                                  max_depth=15)\n"
   ]
  },
  {
   "cell_type": "code",
   "execution_count": 44,
   "metadata": {},
   "outputs": [
    {
     "name": "stdout",
     "output_type": "stream",
     "text": [
      "Tuned Random Forest Training Data Score: 0.9691297208538587\n",
      "Tuned Random Forest Testing Data Score: 0.6571671629094002\n"
     ]
    }
   ],
   "source": [
    "#Print tuned Training Scores\n",
    "rf2_model.fit(xtrain, ytrain)\n",
    "print(f\"Tuned Random Forest Training Data Score: {rf2_model.score(xtrain, ytrain)}\")\n",
    "print(f\"Tuned Random Forest Testing Data Score: {rf2_model.score(xtest, ytest)}\")"
   ]
  },
  {
   "cell_type": "code",
   "execution_count": 45,
   "metadata": {},
   "outputs": [
    {
     "name": "stdout",
     "output_type": "stream",
     "text": [
      "Tuned Estimates for Random Forest\n",
      "              precision    recall  f1-score   support\n",
      "\n",
      "           0       0.72      0.51      0.60      2351\n",
      "           1       0.62      0.80      0.70      2351\n",
      "\n",
      "    accuracy                           0.66      4702\n",
      "   macro avg       0.67      0.66      0.65      4702\n",
      "weighted avg       0.67      0.66      0.65      4702\n",
      "\n"
     ]
    }
   ],
   "source": [
    "predictions2 = rf2_model.predict(xtest)\n",
    "print(f'Tuned Estimates for Random Forest')\n",
    "print(classification_report(ytest, predictions2))"
   ]
  },
  {
   "cell_type": "code",
   "execution_count": 46,
   "metadata": {},
   "outputs": [
    {
     "data": {
      "text/plain": [
       "array([[-0.39311205,  0.73658452, -0.08760946, ..., -0.17149859,\n",
       "         0.02026518, -0.02026518],\n",
       "       [ 0.35168119, -0.19171582, -0.10342722, ..., -0.17149859,\n",
       "         0.02026518, -0.02026518],\n",
       "       [ 0.25400339, -0.32080462, -0.20434179, ..., -0.17149859,\n",
       "         0.02026518, -0.02026518],\n",
       "       ...,\n",
       "       [-1.34791257,  0.85997823, -1.28263075, ..., -0.17149859,\n",
       "         0.02026518, -0.02026518],\n",
       "       [-0.23438563, -1.00231755, -0.11361032, ..., -0.17149859,\n",
       "         0.02026518, -0.02026518],\n",
       "       [-0.23438563,  0.69292214,  0.10586953, ..., -0.17149859,\n",
       "         0.02026518, -0.02026518]])"
      ]
     },
     "execution_count": 46,
     "metadata": {},
     "output_type": "execute_result"
    }
   ],
   "source": [
    "#import standardscaler preprocessor\n",
    "from sklearn.preprocessing import StandardScaler, MinMaxScaler, LabelEncoder\n",
    "\n",
    "#Scale training datafile\n",
    "scaler = StandardScaler().fit(xtrain)\n",
    "xtrain_scaled = scaler.transform(xtrain)\n",
    "xtrain_scaled"
   ]
  },
  {
   "cell_type": "code",
   "execution_count": 47,
   "metadata": {},
   "outputs": [
    {
     "data": {
      "text/plain": [
       "array([[  2.20755943,  -1.12001617,   1.0371484 , ...,  -0.17149859,\n",
       "        -49.34571917,  49.34571917],\n",
       "       [ -1.11348584,   0.21833096,  -1.01983876, ...,  -0.17149859,\n",
       "        -49.34571917,  49.34571917],\n",
       "       [ -1.34791257,   0.54295132,  -1.2928478 , ...,  -0.17149859,\n",
       "        -49.34571917,  49.34571917],\n",
       "       ...,\n",
       "       [ -0.72277464,   1.7009538 ,  -0.41340093, ...,  -0.17149859,\n",
       "        -49.34571917,  49.34571917],\n",
       "       [ -0.91813024,   0.85997823,  -1.02947877, ...,  -0.17149859,\n",
       "        -49.34571917,  49.34571917],\n",
       "       [  1.23078141,   1.22636262,   2.08478621, ...,  -0.17149859,\n",
       "        -49.34571917,  49.34571917]])"
      ]
     },
     "execution_count": 47,
     "metadata": {},
     "output_type": "execute_result"
    }
   ],
   "source": [
    "xtest_scaled = scaler.transform(xtest)\n",
    "xtest_scaled"
   ]
  },
  {
   "cell_type": "code",
   "execution_count": 48,
   "metadata": {},
   "outputs": [
    {
     "data": {
      "text/plain": [
       "LogisticRegression(max_iter=1000, random_state=42)"
      ]
     },
     "execution_count": 48,
     "metadata": {},
     "output_type": "execute_result"
    }
   ],
   "source": [
    "#create a logistic regression model\n",
    "classifier2 = LogisticRegression(max_iter=1000, random_state=42)\n",
    "classifier2"
   ]
  },
  {
   "cell_type": "code",
   "execution_count": 49,
   "metadata": {},
   "outputs": [
    {
     "name": "stdout",
     "output_type": "stream",
     "text": [
      "Logistic Regression Training Data Score: 0.7078817733990148\n",
      "Logistic Regression Testing Data Score: 0.5444491705657167\n"
     ]
    }
   ],
   "source": [
    "classifier2.fit(xtrain_scaled, ytrain)\n",
    "print(f\"Logistic Regression Training Data Score: {classifier2.score(xtrain_scaled, ytrain)}\")\n",
    "print(f\"Logistic Regression Testing Data Score: {classifier2.score(xtest_scaled, ytest)}\")"
   ]
  },
  {
   "cell_type": "code",
   "execution_count": 50,
   "metadata": {},
   "outputs": [
    {
     "name": "stdout",
     "output_type": "stream",
     "text": [
      "Scaled Logistic Regression Classification Report\n",
      "              precision    recall  f1-score   support\n",
      "\n",
      "           0       0.99      0.09      0.17      2351\n",
      "           1       0.52      1.00      0.69      2351\n",
      "\n",
      "    accuracy                           0.54      4702\n",
      "   macro avg       0.75      0.54      0.43      4702\n",
      "weighted avg       0.75      0.54      0.43      4702\n",
      "\n"
     ]
    }
   ],
   "source": [
    "#to get the classification report\n",
    "predictions = classifier2.predict(xtest_scaled)\n",
    "print(f'Scaled Logistic Regression Classification Report')\n",
    "print(classification_report(ytest, predictions))"
   ]
  },
  {
   "cell_type": "code",
   "execution_count": 55,
   "metadata": {},
   "outputs": [],
   "source": [
    "#Build the random forest classifier\n",
    "scale_rf = RandomForestClassifier(random_state=42)"
   ]
  },
  {
   "cell_type": "code",
   "execution_count": 56,
   "metadata": {},
   "outputs": [
    {
     "data": {
      "text/plain": [
       "RandomForestClassifier(random_state=42)"
      ]
     },
     "execution_count": 56,
     "metadata": {},
     "output_type": "execute_result"
    }
   ],
   "source": [
    "#fit the scaled RF to the training data\n",
    "scale_rf.fit(xtrain_scaled, ytrain)"
   ]
  },
  {
   "cell_type": "code",
   "execution_count": 57,
   "metadata": {},
   "outputs": [
    {
     "name": "stdout",
     "output_type": "stream",
     "text": [
      "Training Score: 1.0\n",
      "Testing Score: 0.6401531263292216\n"
     ]
    }
   ],
   "source": [
    "#score the random forest models (training and testing)\n",
    "print(f'Training Score: {scale_rf.score(xtrain_scaled, ytrain)}')\n",
    "print(f'Testing Score: {scale_rf.score(xtest_scaled, ytest)}')"
   ]
  },
  {
   "cell_type": "code",
   "execution_count": 58,
   "metadata": {},
   "outputs": [
    {
     "name": "stdout",
     "output_type": "stream",
     "text": [
      "Scaled Estimates for Random Forest\n",
      "              precision    recall  f1-score   support\n",
      "\n",
      "           0       0.70      0.49      0.57      2351\n",
      "           1       0.61      0.79      0.69      2351\n",
      "\n",
      "    accuracy                           0.64      4702\n",
      "   macro avg       0.65      0.64      0.63      4702\n",
      "weighted avg       0.65      0.64      0.63      4702\n",
      "\n"
     ]
    }
   ],
   "source": [
    "\n",
    "predictions2 = scale_rf.predict(xtest_scaled)\n",
    "print(f'Scaled Estimates for Random Forest')\n",
    "print(classification_report(ytest, predictions2))"
   ]
  },
  {
   "cell_type": "code",
   "execution_count": null,
   "metadata": {},
   "outputs": [],
   "source": []
  }
 ],
 "metadata": {
  "kernelspec": {
   "display_name": "Python 3",
   "language": "python",
   "name": "python3"
  },
  "language_info": {
   "codemirror_mode": {
    "name": "ipython",
    "version": 3
   },
   "file_extension": ".py",
   "mimetype": "text/x-python",
   "name": "python",
   "nbconvert_exporter": "python",
   "pygments_lexer": "ipython3",
   "version": "3.8.5"
  }
 },
 "nbformat": 4,
 "nbformat_minor": 4
}
